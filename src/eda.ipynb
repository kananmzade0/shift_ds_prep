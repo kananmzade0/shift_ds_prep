{
 "cells": [
  {
   "cell_type": "code",
   "execution_count": 8,
   "metadata": {},
   "outputs": [],
   "source": [
    "import pandas as pd\n",
    "import numpy as np\n",
    "\n",
    "from sklearn.pipeline import Pipeline\n",
    "from sklearn.preprocessing import StandardScaler\n",
    "from sklearn.linear_model import LogisticRegression\n",
    "from sklearn.metrics import classification_report, confusion_matrix, roc_auc_score\n",
    "from sklearn.model_selection import train_test_split"
   ]
  },
  {
   "cell_type": "code",
   "execution_count": 9,
   "metadata": {},
   "outputs": [],
   "source": [
    "df = pd.read_csv(\"../data/creditcard.csv\")"
   ]
  },
  {
   "cell_type": "code",
   "execution_count": 10,
   "metadata": {},
   "outputs": [
    {
     "data": {
      "text/plain": [
       "Class\n",
       "0    99.827251\n",
       "1     0.172749\n",
       "Name: proportion, dtype: float64"
      ]
     },
     "execution_count": 10,
     "metadata": {},
     "output_type": "execute_result"
    }
   ],
   "source": [
    "df['Class'].value_counts(normalize=True)*100"
   ]
  },
  {
   "cell_type": "code",
   "execution_count": 11,
   "metadata": {},
   "outputs": [],
   "source": [
    "X = df.drop('Class', axis=1)\n",
    "y = df['Class']\n",
    "\n",
    "split_parameters = {\n",
    "    'stratify': y,\n",
    "    'test_size': 0.2,\n",
    "    'random_state': 42\n",
    "}\n",
    "\n",
    "X_train, X_test, y_train, y_test = train_test_split(X, y, **split_parameters)"
   ]
  },
  {
   "cell_type": "code",
   "execution_count": 12,
   "metadata": {},
   "outputs": [
    {
     "data": {
      "text/plain": [
       "array([0.00569098, 0.06755242, 0.00011903, ..., 0.00026008, 0.00375493,\n",
       "       0.08229136], shape=(56962,))"
      ]
     },
     "execution_count": 12,
     "metadata": {},
     "output_type": "execute_result"
    }
   ],
   "source": [
    "logreg_parameters = {\n",
    "    'class_weight': 'balanced',\n",
    "    'max_iter': 5000,\n",
    "    'random_state': 42\n",
    "}\n",
    "\n",
    "logreg = LogisticRegression(**logreg_parameters)\n",
    "\n",
    "pipe = Pipeline([\n",
    "    ('scaler', StandardScaler()),\n",
    "    ('logreg', LogisticRegression(**logreg_parameters))\n",
    "])\n",
    "\n",
    "pipe.fit(X_train, y_train)\n",
    "y_pred = pipe.predict(X_test)\n",
    "y_proba = pipe.predict_proba(X_test)[:, 1]\n",
    "\n",
    "y_proba"
   ]
  },
  {
   "cell_type": "code",
   "execution_count": 18,
   "metadata": {},
   "outputs": [
    {
     "name": "stdout",
     "output_type": "stream",
     "text": [
      "Threshold: 0.1\n",
      "Classification Report:\n",
      "               precision    recall  f1-score   support\n",
      "\n",
      "           0       1.00      0.80      0.89     56864\n",
      "           1       0.01      0.95      0.02        98\n",
      "\n",
      "    accuracy                           0.80     56962\n",
      "   macro avg       0.50      0.87      0.45     56962\n",
      "weighted avg       1.00      0.80      0.89     56962\n",
      "\n",
      "Confusion Matrix:\n",
      " [[45549 11315]\n",
      " [    5    93]]\n",
      "\n",
      "ROC AUC Score: 0.9720834996210077\n",
      "Threshold: 0.2\n",
      "Classification Report:\n",
      "               precision    recall  f1-score   support\n",
      "\n",
      "           0       1.00      0.90      0.95     56864\n",
      "           1       0.02      0.94      0.03        98\n",
      "\n",
      "    accuracy                           0.90     56962\n",
      "   macro avg       0.51      0.92      0.49     56962\n",
      "weighted avg       1.00      0.90      0.95     56962\n",
      "\n",
      "Confusion Matrix:\n",
      " [[51349  5515]\n",
      " [    6    92]]\n",
      "\n",
      "ROC AUC Score: 0.9720834996210077\n",
      "Threshold: 0.3\n",
      "Classification Report:\n",
      "               precision    recall  f1-score   support\n",
      "\n",
      "           0       1.00      0.94      0.97     56864\n",
      "           1       0.03      0.92      0.05        98\n",
      "\n",
      "    accuracy                           0.94     56962\n",
      "   macro avg       0.51      0.93      0.51     56962\n",
      "weighted avg       1.00      0.94      0.97     56962\n",
      "\n",
      "Confusion Matrix:\n",
      " [[53663  3201]\n",
      " [    8    90]]\n",
      "\n",
      "ROC AUC Score: 0.9720834996210077\n",
      "Threshold: 0.4\n",
      "Classification Report:\n",
      "               precision    recall  f1-score   support\n",
      "\n",
      "           0       1.00      0.96      0.98     56864\n",
      "           1       0.04      0.92      0.08        98\n",
      "\n",
      "    accuracy                           0.96     56962\n",
      "   macro avg       0.52      0.94      0.53     56962\n",
      "weighted avg       1.00      0.96      0.98     56962\n",
      "\n",
      "Confusion Matrix:\n",
      " [[54819  2045]\n",
      " [    8    90]]\n",
      "\n",
      "ROC AUC Score: 0.9720834996210077\n",
      "Threshold: 0.5\n",
      "Classification Report:\n",
      "               precision    recall  f1-score   support\n",
      "\n",
      "           0       1.00      0.98      0.99     56864\n",
      "           1       0.06      0.92      0.11        98\n",
      "\n",
      "    accuracy                           0.98     56962\n",
      "   macro avg       0.53      0.95      0.55     56962\n",
      "weighted avg       1.00      0.98      0.99     56962\n",
      "\n",
      "Confusion Matrix:\n",
      " [[55478  1386]\n",
      " [    8    90]]\n",
      "\n",
      "ROC AUC Score: 0.9720834996210077\n",
      "Threshold: 0.6\n",
      "Classification Report:\n",
      "               precision    recall  f1-score   support\n",
      "\n",
      "           0       1.00      0.98      0.99     56864\n",
      "           1       0.09      0.91      0.16        98\n",
      "\n",
      "    accuracy                           0.98     56962\n",
      "   macro avg       0.54      0.95      0.57     56962\n",
      "weighted avg       1.00      0.98      0.99     56962\n",
      "\n",
      "Confusion Matrix:\n",
      " [[55927   937]\n",
      " [    9    89]]\n",
      "\n",
      "ROC AUC Score: 0.9720834996210077\n",
      "Threshold: 0.7\n",
      "Classification Report:\n",
      "               precision    recall  f1-score   support\n",
      "\n",
      "           0       1.00      0.99      0.99     56864\n",
      "           1       0.12      0.91      0.21        98\n",
      "\n",
      "    accuracy                           0.99     56962\n",
      "   macro avg       0.56      0.95      0.60     56962\n",
      "weighted avg       1.00      0.99      0.99     56962\n",
      "\n",
      "Confusion Matrix:\n",
      " [[56219   645]\n",
      " [    9    89]]\n",
      "\n",
      "ROC AUC Score: 0.9720834996210077\n",
      "Threshold: 0.8\n",
      "Classification Report:\n",
      "               precision    recall  f1-score   support\n",
      "\n",
      "           0       1.00      0.99      1.00     56864\n",
      "           1       0.16      0.89      0.27        98\n",
      "\n",
      "    accuracy                           0.99     56962\n",
      "   macro avg       0.58      0.94      0.63     56962\n",
      "weighted avg       1.00      0.99      0.99     56962\n",
      "\n",
      "Confusion Matrix:\n",
      " [[56406   458]\n",
      " [   11    87]]\n",
      "\n",
      "ROC AUC Score: 0.9720834996210077\n",
      "Threshold: 0.9\n",
      "Classification Report:\n",
      "               precision    recall  f1-score   support\n",
      "\n",
      "           0       1.00      1.00      1.00     56864\n",
      "           1       0.25      0.89      0.39        98\n",
      "\n",
      "    accuracy                           1.00     56962\n",
      "   macro avg       0.62      0.94      0.69     56962\n",
      "weighted avg       1.00      1.00      1.00     56962\n",
      "\n",
      "Confusion Matrix:\n",
      " [[56599   265]\n",
      " [   11    87]]\n",
      "\n",
      "ROC AUC Score: 0.9720834996210077\n"
     ]
    }
   ],
   "source": [
    "def test_threshold(y_proba, y_test, threshold=0.5):\n",
    "    y_pred = np.where(y_proba > threshold, 1, 0)\n",
    "    print(f\"Threshold: {threshold}\")\n",
    "    print(\"Classification Report:\\n\", classification_report(y_test, y_pred))\n",
    "    print(\"Confusion Matrix:\\n\", confusion_matrix(y_test, y_pred))\n",
    "    print(\"\\nROC AUC Score:\", roc_auc_score(y_test, y_proba))\n",
    "\n",
    "for threshold in [0.1, 0.2, 0.3, 0.4, 0.5, 0.6, 0.7, 0.8, 0.9]:\n",
    "    test_threshold(y_proba, y_test, threshold)"
   ]
  },
  {
   "cell_type": "code",
   "execution_count": 17,
   "metadata": {},
   "outputs": [
    {
     "name": "stdout",
     "output_type": "stream",
     "text": [
      "Custom Threshold Classification Report:\n",
      "               precision    recall  f1-score   support\n",
      "\n",
      "           0       1.00      1.00      1.00     56864\n",
      "           1       0.25      0.89      0.39        98\n",
      "\n",
      "    accuracy                           1.00     56962\n",
      "   macro avg       0.62      0.94      0.69     56962\n",
      "weighted avg       1.00      1.00      1.00     56962\n",
      "\n",
      "Custom Threshold Confusion Matrix:\n",
      " [[56599   265]\n",
      " [   11    87]]\n",
      "\n",
      "Custom Threshold ROC AUC Score: 0.9415474300299749\n"
     ]
    }
   ],
   "source": [
    "y_proba_custom = (y_proba >= 0.9).astype(int)\n",
    "print(\"Custom Threshold Classification Report:\\n\", classification_report(y_test, y_proba_custom))\n",
    "print(\"Custom Threshold Confusion Matrix:\\n\", confusion_matrix(y_test, y_proba_custom))\n",
    "print(\"\\nCustom Threshold ROC AUC Score:\", roc_auc_score(y_test, y_proba_custom))"
   ]
  },
  {
   "cell_type": "code",
   "execution_count": null,
   "metadata": {},
   "outputs": [
    {
     "data": {
      "image/png": "[encoded data removed]",
      "text/plain": [
       "<Figure size 1000x600 with 1 Axes>"
      ]
     },
     "metadata": {},
     "output_type": "display_data"
    }
   ],
   "source": [
    "import matplotlib.pyplot as plt\n",
    "import seaborn as sns\n",
    "\n",
    "# Get predicted probabilities for the positive class (fraud)\n",
    "y_proba = logreg.predict_proba(X_test)[:, 1]\n",
    "\n",
    "# Separate probabilities by true class\n",
    "fraud_probs = y_proba[y_test == 1]\n",
    "nonfraud_probs = y_proba[y_test == 0]\n",
    "\n",
    "# Plot histograms\n",
    "plt.figure(figsize=(10, 6))\n",
    "sns.histplot(nonfraud_probs, color='blue', label='Non-Fraud', stat='density', bins=50, alpha=0.5)\n",
    "sns.histplot(fraud_probs, color='red', label='Fraud', stat='density', bins=50, alpha=0.5)\n",
    "\n",
    "plt.axvline(0.5, color='gray', linestyle='--', label='Default Threshold (0.5)')\n",
    "plt.xlabel('Predicted Probability')\n",
    "plt.ylabel('Density')\n",
    "plt.title('Prediction Probability Distribution')\n",
    "plt.legend()\n",
    "plt.grid(True)\n",
    "plt.show()\n"
   ]
  }
 ],
 "metadata": {
  "kernelspec": {
   "display_name": ".venv",
   "language": "python",
   "name": "python3"
  },
  "language_info": {
   "codemirror_mode": {
    "name": "ipython",
    "version": 3
   },
   "file_extension": ".py",
   "mimetype": "text/x-python",
   "name": "python",
   "nbconvert_exporter": "python",
   "pygments_lexer": "ipython3",
   "version": "3.12.3"
  }
 },
 "nbformat": 4,
 "nbformat_minor": 2
}
